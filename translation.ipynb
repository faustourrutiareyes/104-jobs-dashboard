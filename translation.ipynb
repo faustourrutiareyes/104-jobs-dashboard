{
 "cells": [
  {
   "cell_type": "code",
   "execution_count": 139,
   "metadata": {},
   "outputs": [],
   "source": [
    "import pandas as pd\n",
    "import numpy as np\n",
    "import matplotlib.pyplot as plt\n",
    "import seaborn as sns"
   ]
  },
  {
   "cell_type": "code",
   "execution_count": 140,
   "metadata": {},
   "outputs": [],
   "source": [
    "jobs = pd.read_csv('jobs.csv')"
   ]
  },
  {
   "cell_type": "code",
   "execution_count": 141,
   "metadata": {},
   "outputs": [],
   "source": [
    "jobs.columns = ['Vacancy Category', 'Position Category', 'Position', 'County City', 'Region', 'Number of Supply and Demand', 'Company Name', 'Vacancy Name', 'Job Content',\n",
    "        'Job Category', 'Job Benefits', 'Work Nature', 'Working Location', 'Management Responsibilities', 'Working Hours', 'Number of People Required', 'Working Experience', 'Education Requirements',\n",
    "        'Department requirements', 'Proficiency in tools', 'Work skills', 'Other conditions', 'Capital amount', 'Number of employees', 'Company label']"
   ]
  },
  {
   "cell_type": "code",
   "execution_count": 142,
   "metadata": {},
   "outputs": [],
   "source": [
    "from googletrans import Translator\n",
    "translator  = Translator()"
   ]
  },
  {
   "cell_type": "code",
   "execution_count": 143,
   "metadata": {},
   "outputs": [
    {
     "name": "stdout",
     "output_type": "stream",
     "text": [
      "Vacancy Category : 2\n",
      "Position Category : 3\n",
      "Position : 21\n",
      "County City : 23\n",
      "Region : 221\n",
      "Number of Supply and Demand : 5\n",
      "Company Name : 6736\n",
      "Vacancy Name : 25514\n",
      "Job Content : 26049\n",
      "Job Category : 4906\n",
      "Job Benefits : 1346\n",
      "Work Nature : 64\n",
      "Working Location : 9758\n",
      "Management Responsibilities : 337\n",
      "Working Hours : 1335\n",
      "Number of People Required : 96\n",
      "Working Experience : 12\n",
      "Education Requirements : 28\n",
      "Department requirements : 1345\n",
      "Proficiency in tools : 9319\n",
      "Work skills : 4556\n",
      "Other conditions : 16999\n",
      "Capital amount : 1506\n",
      "Number of employees : 482\n",
      "Company label : 44\n"
     ]
    }
   ],
   "source": [
    "for column in  jobs.columns:\n",
    "    print(column, \":\", len(jobs[column].unique()))"
   ]
  },
  {
   "cell_type": "code",
   "execution_count": 144,
   "metadata": {},
   "outputs": [],
   "source": [
    "jobs = jobs.loc[\n",
    "    :,\n",
    "    [\n",
    "        \"Position\",\n",
    "        \"County City\",\n",
    "        \"Region\",\n",
    "        \"Company Name\",\n",
    "        \"Job Benefits\",\n",
    "        \"Work Nature\",\n",
    "        \"Number of People Required\",\n",
    "        \"Working Experience\",\n",
    "        \"Education Requirements\",\n",
    "        \"Proficiency in tools\",\n",
    "        \"Number of employees\",\n",
    "    ],\n",
    "]"
   ]
  },
  {
   "cell_type": "code",
   "execution_count": 145,
   "metadata": {},
   "outputs": [
    {
     "name": "stdout",
     "output_type": "stream",
     "text": [
      "['Position', 'County City', 'Work Nature', 'Number of People Required', 'Working Experience', 'Education Requirements']\n"
     ]
    }
   ],
   "source": [
    "short_columns = []\n",
    "\n",
    "for column in  jobs.columns:\n",
    "    if len(jobs[column].unique()) < 100:\n",
    "        short_columns.append(column)\n",
    "        \n",
    "print(short_columns)"
   ]
  },
  {
   "cell_type": "code",
   "execution_count": 146,
   "metadata": {},
   "outputs": [
    {
     "data": {
      "text/plain": [
       "Work Nature\n",
       "全職                               57616\n",
       "兼職                                 463\n",
       "兼職 - 長期工讀                          326\n",
       "Not Specified                      187\n",
       "兼職 - 長期工讀、短期工讀                      76\n",
       "兼職 - 短期工讀                           45\n",
       "兼職 - 長期工讀、短期工讀、寒假工讀、暑假工讀            26\n",
       "兼職 - 長期工讀、暑假工讀                      24\n",
       "兼職 - 長期工讀、短期工讀、假日工讀、寒假工讀、暑假工讀       19\n",
       "兼職 - 長期工讀、短期工讀、假日工讀                 18\n",
       "兼職 - 長期工讀、短期工讀、暑假工讀                 15\n",
       "兼職 - 長期工讀、假日工讀                      12\n",
       "兼職 - 長期工讀、短期工讀、寒假工讀                  6\n",
       "Name: count, dtype: int64"
      ]
     },
     "execution_count": 146,
     "metadata": {},
     "output_type": "execute_result"
    }
   ],
   "source": [
    "work_nature_count = jobs['Work Nature'].value_counts().reset_index()\n",
    "work_natures = list(work_nature_count[work_nature_count['count'] > 5]['Work Nature'])\n",
    "\n",
    "jobs.loc[~jobs['Work Nature'].isin(work_natures), 'Work Nature'] = 'Not Specified'\n",
    "jobs['Work Nature'].value_counts()"
   ]
  },
  {
   "cell_type": "code",
   "execution_count": 147,
   "metadata": {},
   "outputs": [],
   "source": [
    "already_translated = []"
   ]
  },
  {
   "cell_type": "code",
   "execution_count": 149,
   "metadata": {},
   "outputs": [
    {
     "name": "stdout",
     "output_type": "stream",
     "text": [
      "Position\n",
      "['Software Director' 'Nan' 'E -commerce technology supervisor'\n",
      " 'Communication software engineer' 'Software design engineer'\n",
      " 'Holler design engineer' 'Internet designer' 'System analyst'\n",
      " 'Video game designer' 'Other information professionals'\n",
      " 'Information Assistant' 'BIOS engineer' 'Algorithm development engineer'\n",
      " 'MIS_ 主 m m m' 'Database manager' 'MIS programmer' 'MES engineer'\n",
      " 'Internet management engineer' 'System Maintenance'\n",
      " 'Information equipment control staff' 'Internet security analyst']\n",
      "County City\n",
      "['Taipei City' 'Nan' 'New Taipei City' 'Yilan County' 'Taoyuan City'\n",
      " 'Hsinchu City' 'Hsinchu County' 'Miaoli County' 'Taichung City'\n",
      " 'Changhua County' 'Nantou County' 'Chiayi City' 'Tainan City' 'Kaohsiung'\n",
      " 'Pingtung County' 'Hualien County' 'Keelung City' 'Yunlin County'\n",
      " 'Chiayi County' 'Taitung County' 'Penghu County' 'Kinmen County'\n",
      " 'Lianjiang County']\n",
      "Work Nature\n",
      "['full time' 'Not specify' 'part time' 'Part -time -long -term work'\n",
      " 'Part -time -long -term work and short -term work'\n",
      " 'Part -time -long -term work, short -term work, winter vacation work, summer vacation work'\n",
      " 'Part -time -long -term work and summer vacation reading'\n",
      " 'Part -time -long -term work, short -term work, holiday work, winter vacation work, summer work reading'\n",
      " 'Part -time -short -term work'\n",
      " 'Part -time -long -term work, short -term work, summer vacation work'\n",
      " 'Part -time -long -term work, short -term work, winter vacation work'\n",
      " 'Part -time -long -term work, short -term work, holiday work'\n",
      " 'Part -time -long -term work and holiday work']\n",
      "Number of People Required\n",
      "['2 ~ 3 people' '1 person' '1 ~ 2 people' 'Unlimited' '1 ~ 3 people'\n",
      " 'Week off' '3 people' '4 people' '1 ~ 4 people' '2 people'\n",
      " '1 ~ 10 people' '1 ~ 5 people' '3 ~ 5 people' '4 ~ 5 people'\n",
      " '5 ~ 6 people' '6 people' '5 ~ 10 people' '2 ~ 4 people'\n",
      " \"According to the company's regulations\" '5 ~ 7 people' 'Nan'\n",
      " '1 ~ 8 people' '2 ~ 6 people' '11 people' '5-people' '1 ~ 11 people'\n",
      " '1 ~ 12 people' '1 ~ 6 people' '4 ~ 6 people' '2 ~ 8 people'\n",
      " '3 ~ 4 people' '10 people' 'Within a month' '2 ~ 5 people' '6 ~ 8 people'\n",
      " '8 ~ 10 people' '4 ~ 10 people' '3 ~ 6 people' '6 ~ 10 people'\n",
      " '6 ~ 41 people' '15 ~ 18 people' '10 ~ 20 people' '1 ~ 15 people'\n",
      " '1 ~ 21 people' '10 ~ 15 people' '1 ~ 20 people' '7 ~ 8 people'\n",
      " 'But work after the year' '1 ~ 7 people' '5 ~ 8 people' '27 ~ 30 people'\n",
      " '7 ~ 10 people' '20 people' '9 people' '6 ~ 12 people' '2 ~ 20'\n",
      " '6 ~ 7 people' '20 ~ 30 people' '10 ~ 30 people' '5 ~ 15 people'\n",
      " '1 ~ 13 people' 'Within two weeks' '1 ~ 30 people' '1 ~ 50 people'\n",
      " '4 ~ 8 people' '1 ~ 45 people' '15 people' '9 ~ 10 people' '7 people'\n",
      " '8 people' '30 people' '3 ~ 8 people' '2 ~ 13 people' '10 ~ 14 people'\n",
      " '5 ~ 9 people' '5 ~ 20 people' '6 ~ 9 people' '70 ~ 80 people'\n",
      " '1 ~ 9 people' '20 ~ 25 people' '60 ~ 61 people' '15 ~ 20 people'\n",
      " '3 ~ 9 people' '2 ~ 7 people' '5 ~ 40 people' '3 ~ 10 people'\n",
      " '6 ~ 30 people' 'within a week' '1 ~ 51 people' '3 ~ 7 people'\n",
      " '3 ~ 12 people' '2 ~ 10 people' '10 ~ 12 people' '5 ~ 12 people'\n",
      " '99 people' '1 ~ 40 people']\n",
      "Working Experience\n",
      "['over 3 years' 'Informal' 'More than 5 years' 'More than 10 years'\n",
      " 'More than 6 years' 'For more than 2 years' 'More than 1 year'\n",
      " 'For more than 4 years' 'More than 8 years' 'More than 7 years' 'Nan'\n",
      " 'For more than 9 years']\n",
      "Education Requirements\n",
      "['Above University' \"University and master's degree\"\n",
      " \"College, University, Master's Degree\" 'Specialty ABove'\n",
      " 'College, university' 'Informal' \"Above a master's degree\" 'master'\n",
      " 'ABove High School' 'University' 'high school'\n",
      " 'High school, college, university'\n",
      " \"High school, college, university, master's degere\" 'Specialty' 'Nan'\n",
      " 'PHD' \"College, Master's Degree\"\n",
      " 'Below high school, high school, college, university'\n",
      " \"Below high school, high school, college, university, master's degree\"\n",
      " \"College, Master's Degree, DOCTOR\"\n",
      " \"High school, university, master's degree, doctral doctor\"\n",
      " 'High school, spiecilty' \"High school, university, master's degree\"\n",
      " 'Below high school, high school' 'University, doctor'\n",
      " 'College, university, doctorate' 'High School, University'\n",
      " 'Below high school']\n",
      "Region\n",
      "['Zhongzheng District' 'Datong District' 'Zhongshan Area'\n",
      " 'Songshan District' 'Daan District' 'Wanhua District' 'Xinyi District'\n",
      " 'Nan' 'Shilin District' 'Beitou District' 'Neihu District'\n",
      " 'Nangang District' 'Wenshan District' 'Jinshan District'\n",
      " 'Banqiao District' 'Xizhi District' 'Shiji District' 'New store'\n",
      " 'Yonghe District' 'Neutron' 'Tucheng' 'Forest area' 'Triple district'\n",
      " 'Xinzhuang District' 'Linkou District' 'Five -strand area'\n",
      " 'Bali District' 'Freshwater area' 'Luodong Town' 'Suao Town'\n",
      " 'Zhongli District' 'Pingzhen District' 'Longtan District' 'Bayberry'\n",
      " 'Guanyin District' 'Taoyuan' 'Guishan District' 'Eight virtues'\n",
      " 'Daxi District' 'Large park' 'Luzhu District' 'Hsinchu City' 'Zhubei'\n",
      " 'Hukou Township' 'Xinfeng Township' 'Xinpu Town' 'Zhudong Town'\n",
      " 'Zhunan Town' 'Miaoli City' 'Central area' 'South area' 'Western region'\n",
      " 'Northern district' 'Beitun District' 'Xitun District' 'Nantun District'\n",
      " 'Taiping District' 'Dali District' 'Wuri District' 'Rear area'\n",
      " 'Tanzi District' 'Daya District' 'Wuqi District' 'Clear water area'\n",
      " 'Dajia District' 'Waipu District' 'Changhua City' 'Hong Kong Township'\n",
      " 'Yuanlin City' 'Da Village' 'Nantou' 'Chiayi City'\n",
      " 'Central and Western District' 'Eastern district' 'Anping District'\n",
      " 'Annan District' 'Yongkang District' 'Guiren District' 'Rende District'\n",
      " 'New urban area' 'Emerging district' 'Front gold area' 'Lingya District'\n",
      " 'Yancheng District' 'Gushan District' 'Qianzhen District' 'Three people'\n",
      " 'Nanzi District' 'Zuoying District' 'Renwu District' 'Okayama'\n",
      " 'Road bamboo area' 'Bridge head area' 'Da Ling District' 'Pingtung City'\n",
      " 'Hualien City' \"Ji'an Township\" 'Three Gorges District' 'Luzhou District'\n",
      " 'Wujie Township' 'Houlong Town' 'Fengyuan District' 'Flower Township'\n",
      " 'Deep pit area' 'Yingge District' \"Nan'ao Township\" 'New house'\n",
      " 'Baoshan Township' 'Lugang Town' 'Hemei Town' 'Caotun Town'\n",
      " 'Maiyu Township' 'Dalin Town' 'Stable area' 'Small port area'\n",
      " 'Large community' 'Alian District' 'Yanchao District' 'Fengshan District'\n",
      " '枋 枋 乡 乡' 'Ruifang District' 'Taishan District' 'Yilan City' 'Town'\n",
      " 'Dongshan Township' 'Benevolence' 'Anle District' 'Seven -block area'\n",
      " 'Xilin Township' 'Head city' 'Causeway Township' 'Sanyi Township'\n",
      " 'Wufeng District' 'Heping District' 'Kamagang District' 'Big belly area'\n",
      " 'Shalu District' 'Longjing District' 'Fuxing Township' 'West Township'\n",
      " 'Club' 'Xihu Town' 'Tatou Township' 'Xizhou Township' 'Erlin Town'\n",
      " 'Fangyuan Township' 'Puli Town' 'Dounan Town' 'Huwei Town' 'Douxiu City'\n",
      " 'Tongtong Township' 'Beigang Town' 'Zhongpu Township' 'Lucao Township'\n",
      " 'Taibao City' 'Puzi City' 'Xingang Township' 'Minxiong Township'\n",
      " 'Xinghua District' 'Nanxi District' 'Guanmiao District'\n",
      " 'Guantian District' 'Madou District' 'Xinying District' 'Six -Aqu'\n",
      " 'Liuying District' 'Salt water area' 'Good area' 'Mountainous area'\n",
      " \"Yong'an District\" 'Lake' 'Forest park' 'Bird pine district'\n",
      " 'Big tree area' '萣 萣 District' 'Changzhi Township' 'Donggang Town'\n",
      " 'Jiadong Township' 'Car city' 'Taitung City' 'New urban and rural'\n",
      " 'Shoufeng Township' 'Maggong City' 'Jinsha Town' 'Jinhu Town'\n",
      " 'Jinning Township' 'Jincheng' 'Nangan Township' 'Yuguang Township'\n",
      " 'Yuanshan Township' 'Xinyuan Township' 'Daren Township'\n",
      " 'Zhuangwei Township' 'Jiaoxi Township' 'Sanxing Township'\n",
      " 'Baihe District' 'Lin Luo Township' 'Yuli Town' 'Xiushui Township'\n",
      " 'Puxin Township' 'Benevolent' 'Shuili Township' 'Yuanli Town'\n",
      " 'Tanaka Town' 'Water town' 'Beinan Township' 'Ziguan District' 'Museum'\n",
      " 'Qijin District' 'Sanzhi District' 'Famous township' 'Lugu Township'\n",
      " 'Alishan Township' 'Jiali District' 'Ligang Township' 'Wandan Township'\n",
      " 'Shuangxi District' 'Kansai Town' 'Neipu Township' 'Chaozhou Town'\n",
      " 'Xiulin Township']\n",
      "Region\n",
      "['Zhongzheng District' 'Datong District' 'Zhongshan Area'\n",
      " 'Songshan District' 'Daan District' 'Wanhua District' 'Xinyi District'\n",
      " 'Nan' 'Shilin District' 'Beitou District' 'Neihu District'\n",
      " 'Nangang District' 'Wenshan District' 'Jinshan District'\n",
      " 'Banqiao District' 'Xizhi District' 'Shiji District' 'New store'\n",
      " 'Yonghe District' 'Neutron' 'Tucheng' 'Forest area' 'Triple district'\n",
      " 'Xinzhuang District' 'Linkou District' 'Five -strand area'\n",
      " 'Bali District' 'Freshwater area' 'Luodong Town' 'Suao Town'\n",
      " 'Zhongli District' 'Pingzhen District' 'Longtan District' 'Bayberry'\n",
      " 'Guanyin District' 'Taoyuan' 'Guishan District' 'Eight virtues'\n",
      " 'Daxi District' 'Large park' 'Luzhu District' 'Hsinchu City' 'Zhubei'\n",
      " 'Hukou Township' 'Xinfeng Township' 'Xinpu Town' 'Zhudong Town'\n",
      " 'Zhunan Town' 'Miaoli City' 'Central area' 'South area' 'Western region'\n",
      " 'Northern district' 'Beitun District' 'Xitun District' 'Nantun District'\n",
      " 'Taiping District' 'Dali District' 'Wuri District' 'Rear area'\n",
      " 'Tanzi District' 'Daya District' 'Wuqi District' 'Clear water area'\n",
      " 'Dajia District' 'Waipu District' 'Changhua City' 'Hong Kong Township'\n",
      " 'Yuanlin City' 'Da Village' 'Nantou' 'Chiayi City'\n",
      " 'Central and Western District' 'Eastern district' 'Anping District'\n",
      " 'Annan District' 'Yongkang District' 'Guiren District' 'Rende District'\n",
      " 'New urban area' 'Emerging district' 'Front gold area' 'Lingya District'\n",
      " 'Yancheng District' 'Gushan District' 'Qianzhen District' 'Three people'\n",
      " 'Nanzi District' 'Zuoying District' 'Renwu District' 'Okayama'\n",
      " 'Road bamboo area' 'Bridge head area' 'Da Ling District' 'Pingtung City'\n",
      " 'Hualien City' \"Ji'an Township\" 'Three Gorges District' 'Luzhou District'\n",
      " 'Wujie Township' 'Houlong Town' 'Fengyuan District' 'Flower Township'\n",
      " 'Deep pit area' 'Yingge District' \"Nan'ao Township\" 'New house'\n",
      " 'Baoshan Township' 'Lugang Town' 'Hemei Town' 'Caotun Town'\n",
      " 'Maiyu Township' 'Dalin Town' 'Stable area' 'Small port area'\n",
      " 'Large community' 'Alian District' 'Yanchao District' 'Fengshan District'\n",
      " '枋 枋 乡 乡' 'Ruifang District' 'Taishan District' 'Yilan City' 'Town'\n",
      " 'Dongshan Township' 'Benevolence' 'Anle District' 'Seven -block area'\n",
      " 'Xilin Township' 'Head city' 'Causeway Township' 'Sanyi Township'\n",
      " 'Wufeng District' 'Heping District' 'Kamagang District' 'Big belly area'\n",
      " 'Shalu District' 'Longjing District' 'Fuxing Township' 'West Township'\n",
      " 'Club' 'Xihu Town' 'Tatou Township' 'Xizhou Township' 'Erlin Town'\n",
      " 'Fangyuan Township' 'Puli Town' 'Dounan Town' 'Huwei Town' 'Douxiu City'\n",
      " 'Tongtong Township' 'Beigang Town' 'Zhongpu Township' 'Lucao Township'\n",
      " 'Taibao City' 'Puzi City' 'Xingang Township' 'Minxiong Township'\n",
      " 'Xinghua District' 'Nanxi District' 'Guanmiao District'\n",
      " 'Guantian District' 'Madou District' 'Xinying District' 'Six -Aqu'\n",
      " 'Liuying District' 'Salt water area' 'Good area' 'Mountainous area'\n",
      " \"Yong'an District\" 'Lake' 'Forest park' 'Bird pine district'\n",
      " 'Big tree area' '萣 萣 District' 'Changzhi Township' 'Donggang Town'\n",
      " 'Jiadong Township' 'Car city' 'Taitung City' 'New urban and rural'\n",
      " 'Shoufeng Township' 'Maggong City' 'Jinsha Town' 'Jinhu Town'\n",
      " 'Jinning Township' 'Jincheng' 'Nangan Township' 'Yuguang Township'\n",
      " 'Yuanshan Township' 'Xinyuan Township' 'Daren Township'\n",
      " 'Zhuangwei Township' 'Jiaoxi Township' 'Sanxing Township'\n",
      " 'Baihe District' 'Lin Luo Township' 'Yuli Town' 'Xiushui Township'\n",
      " 'Puxin Township' 'Benevolent' 'Shuili Township' 'Yuanli Town'\n",
      " 'Tanaka Town' 'Water town' 'Beinan Township' 'Ziguan District' 'Museum'\n",
      " 'Qijin District' 'Sanzhi District' 'Famous township' 'Lugu Township'\n",
      " 'Alishan Township' 'Jiali District' 'Ligang Township' 'Wandan Township'\n",
      " 'Shuangxi District' 'Kansai Town' 'Neipu Township' 'Chaozhou Town'\n",
      " 'Xiulin Township']\n"
     ]
    }
   ],
   "source": [
    "translated_values = {}\n",
    "\n",
    "short_columns.append('Region')\n",
    "\n",
    "try:\n",
    "    for column in jobs[short_columns]:\n",
    "        print(column)\n",
    "        if column in already_translated:\n",
    "            print(jobs[column].unique())\n",
    "            continue\n",
    "        for word in jobs[column].unique():\n",
    "            translated_values[word] = translator.translate(word, src = 'zh-tw', dest='en').text\n",
    "            jobs[column] = jobs[column].replace(translated_values)\n",
    "        print(jobs[column].unique())\n",
    "        already_translated.append(column)\n",
    "except:\n",
    "    print('Error ocurred')"
   ]
  },
  {
   "cell_type": "code",
   "execution_count": 150,
   "metadata": {},
   "outputs": [],
   "source": [
    "jobs.loc[jobs['Work Nature'] == 'full time', 'Work Nature'] = 'Full-time'\n",
    "jobs.loc[jobs['Work Nature'] == 'part time', 'Work Nature'] = 'Part-time'\n",
    "\n",
    "jobs.replace('不拘', 'Not specified', inplace=True)\n",
    "jobs.replace('Nan', 'Not specified', inplace=True)\n",
    "jobs.replace('Not specify', 'Not specified', inplace=True)"
   ]
  },
  {
   "cell_type": "code",
   "execution_count": 151,
   "metadata": {},
   "outputs": [],
   "source": [
    "jobs['Number of employees'] = jobs['Number of employees'].str.extract('(\\d+)')"
   ]
  },
  {
   "cell_type": "code",
   "execution_count": 152,
   "metadata": {},
   "outputs": [],
   "source": [
    "jobs.to_csv('jobs_translated.csv', index=False)"
   ]
  }
 ],
 "metadata": {
  "kernelspec": {
   "display_name": ".venv",
   "language": "python",
   "name": "python3"
  },
  "language_info": {
   "codemirror_mode": {
    "name": "ipython",
    "version": 3
   },
   "file_extension": ".py",
   "mimetype": "text/x-python",
   "name": "python",
   "nbconvert_exporter": "python",
   "pygments_lexer": "ipython3",
   "version": "3.9.13"
  }
 },
 "nbformat": 4,
 "nbformat_minor": 2
}
