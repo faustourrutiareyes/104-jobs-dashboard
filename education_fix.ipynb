{
 "cells": [
  {
   "cell_type": "code",
   "execution_count": 7,
   "metadata": {},
   "outputs": [],
   "source": [
    "import pandas as pd"
   ]
  },
  {
   "cell_type": "code",
   "execution_count": 8,
   "metadata": {},
   "outputs": [],
   "source": [
    "jobs_translated = pd.read_csv('jobs_translated.csv')"
   ]
  },
  {
   "cell_type": "code",
   "execution_count": 9,
   "metadata": {},
   "outputs": [
    {
     "data": {
      "text/plain": [
       "Education Requirements\n",
       "Above University                                                        14970\n",
       "University and master's degree                                          11983\n",
       "Specialty ABove                                                          9689\n",
       "College, University, Master's Degree                                     7157\n",
       "University                                                               2866\n",
       "Informal                                                                 2746\n",
       "Above a master's degree                                                  2713\n",
       "College, university                                                      2705\n",
       "ABove High School                                                        1311\n",
       "master                                                                   1200\n",
       "High school, college, university                                          475\n",
       "High school, college, university, master's degere                         397\n",
       "Specialty                                                                 284\n",
       "PHD                                                                       100\n",
       "Not specified                                                              75\n",
       "Below high school, high school, college, university                        42\n",
       "Below high school, high school, college, university, master's degree       40\n",
       "high school                                                                26\n",
       "High school, spiecilty                                                     26\n",
       "High school, university, master's degree, doctral doctor                    8\n",
       "Below high school, high school                                              8\n",
       "College, Master's Degree, DOCTOR                                            3\n",
       "University, doctor                                                          3\n",
       "College, Master's Degree                                                    2\n",
       "High school, university, master's degree                                    1\n",
       "College, university, doctorate                                              1\n",
       "High School, University                                                     1\n",
       "Below high school                                                           1\n",
       "Name: count, dtype: int64"
      ]
     },
     "execution_count": 9,
     "metadata": {},
     "output_type": "execute_result"
    }
   ],
   "source": [
    "jobs_translated['Education Requirements'].value_counts()"
   ]
  },
  {
   "cell_type": "code",
   "execution_count": 10,
   "metadata": {},
   "outputs": [
    {
     "name": "stdout",
     "output_type": "stream",
     "text": [
      "{'Above University': 0, \"University and master's degree\": 1, \"College, University, Master's Degree\": 2, 'Specialty ABove': 3, 'College, university': 4, 'Informal': 5, \"Above a master's degree\": 6, 'master': 7, 'ABove High School': 8, 'University': 9, 'high school': 10, 'High school, college, university': 11, \"High school, college, university, master's degere\": 12, 'Specialty': 13, 'Not specified': 14, 'PHD': 15, \"College, Master's Degree\": 16, 'Below high school, high school, college, university': 17, \"Below high school, high school, college, university, master's degree\": 18, \"College, Master's Degree, DOCTOR\": 19, \"High school, university, master's degree, doctral doctor\": 20, 'High school, spiecilty': 21, \"High school, university, master's degree\": 22, 'Below high school, high school': 23, 'University, doctor': 24, 'College, university, doctorate': 25, 'High School, University': 26, 'Below high school': 27}\n"
     ]
    }
   ],
   "source": [
    "my_list = list(jobs_translated['Education Requirements'].unique())\n",
    "education_replacement = dict(zip(my_list, range(len(my_list))))\n",
    "print(education_replacement)"
   ]
  },
  {
   "cell_type": "code",
   "execution_count": 11,
   "metadata": {},
   "outputs": [],
   "source": [
    "high = \"Highschool, Technical school, Undergraduate, Master's, PhD\"\n",
    "tech = \"Technical school, Undergraduate, Master's, PhD\"\n",
    "uni = \"Undergraduate, Master's, PhD\"\n",
    "master = \"Master's, PhD\"\n",
    "phd = \"PhD\"\n",
    "\n",
    "education_replacement = {\n",
    "    \"Above University\": uni,\n",
    "    \"University and master's degree\": uni,\n",
    "    \"College, University, Master's Degree\": tech,\n",
    "    \"Specialty ABove\": tech,\n",
    "    \"College, university\": tech,\n",
    "    \"Informal\": 'Not specified',\n",
    "    \"Above a master's degree\": master,\n",
    "    \"master\": master,\n",
    "    \"ABove High School\": high,\n",
    "    \"University\": uni,\n",
    "    \"high school\": high,\n",
    "    \"High school, college, university\": high,\n",
    "    \"High school, college, university, master's degere\": high,\n",
    "    \"Specialty\": tech,\n",
    "    \"Not specified\": 'Not specified',\n",
    "    \"PHD\": phd,\n",
    "    \"College, Master's Degree\": tech,\n",
    "    \"Below high school, high school, college, university\": high,\n",
    "    \"Below high school, high school, college, university, master's degree\": high,\n",
    "    \"College, Master's Degree, DOCTOR\": tech,\n",
    "    \"High school, university, master's degree, doctral doctor\": high,\n",
    "    \"High school, spiecilty\":  high,\n",
    "    \"High school, university, master's degree\": high,\n",
    "    \"Below high school, high school\": high,\n",
    "    \"University, doctor\": uni,\n",
    "    \"College, university, doctorate\": tech,\n",
    "    \"High School, University\": high,\n",
    "    \"Below high school\": high,\n",
    "}"
   ]
  },
  {
   "cell_type": "code",
   "execution_count": 12,
   "metadata": {},
   "outputs": [],
   "source": [
    "jobs_translated['Education Requirements'] = jobs_translated['Education Requirements'].replace(education_replacement)"
   ]
  },
  {
   "cell_type": "code",
   "execution_count": 13,
   "metadata": {},
   "outputs": [
    {
     "data": {
      "text/plain": [
       "Education Requirements\n",
       "Undergraduate, Master's, PhD                                  29822\n",
       "Technical school, Undergraduate, Master's, PhD                19841\n",
       "Master's, PhD                                                  3913\n",
       "Not specified                                                  2821\n",
       "Highschool, Technical school, Undergraduate, Master's, PhD     2336\n",
       "PhD                                                             100\n",
       "Name: count, dtype: int64"
      ]
     },
     "execution_count": 13,
     "metadata": {},
     "output_type": "execute_result"
    }
   ],
   "source": [
    "jobs_translated['Education Requirements'].value_counts()"
   ]
  },
  {
   "cell_type": "code",
   "execution_count": 15,
   "metadata": {},
   "outputs": [
    {
     "data": {
      "text/plain": [
       "array(['over 3 years', 'Informal', 'More than 5 years',\n",
       "       'More than 10 years', 'More than 6 years', 'For more than 2 years',\n",
       "       'More than 1 year', 'For more than 4 years', 'More than 8 years',\n",
       "       'More than 7 years', 'Not specified', 'For more than 9 years'],\n",
       "      dtype=object)"
      ]
     },
     "execution_count": 15,
     "metadata": {},
     "output_type": "execute_result"
    }
   ],
   "source": [
    "jobs_translated['Working Experience'].unique()"
   ]
  },
  {
   "cell_type": "code",
   "execution_count": 16,
   "metadata": {},
   "outputs": [],
   "source": [
    "exp_replace = {\n",
    "    \"over 3 years\": 3,\n",
    "    \"Informal\": 0,\n",
    "    \"More than 5 years\": 5,\n",
    "    \"More than 10 years\": 10,\n",
    "    \"More than 6 years\": 6,\n",
    "    \"For more than 2 years\": 2,\n",
    "    \"More than 1 year\": 1,\n",
    "    \"For more than 4 years\": 4,\n",
    "    \"More than 8 years\": 8,\n",
    "    \"More than 7 years\": 7,\n",
    "    \"Not specified\": 0,\n",
    "    \"For more than 9 years\": 9,\n",
    "}"
   ]
  },
  {
   "cell_type": "code",
   "execution_count": 17,
   "metadata": {},
   "outputs": [
    {
     "name": "stderr",
     "output_type": "stream",
     "text": [
      "C:\\Users\\faust\\AppData\\Local\\Temp\\ipykernel_19432\\3425865732.py:1: FutureWarning: Downcasting behavior in `replace` is deprecated and will be removed in a future version. To retain the old behavior, explicitly call `result.infer_objects(copy=False)`. To opt-in to the future behavior, set `pd.set_option('future.no_silent_downcasting', True)`\n",
      "  jobs_translated['Working Experience (in Years)'] = jobs_translated['Working Experience'].replace(exp_replace)\n"
     ]
    }
   ],
   "source": [
    "jobs_translated['Working Experience (in Years)'] = jobs_translated['Working Experience'].replace(exp_replace)"
   ]
  },
  {
   "cell_type": "code",
   "execution_count": 28,
   "metadata": {},
   "outputs": [
    {
     "data": {
      "text/plain": [
       "0     653\n",
       "1     425\n",
       "2     391\n",
       "3     368\n",
       "4     288\n",
       "5     262\n",
       "6     245\n",
       "7     226\n",
       "8     209\n",
       "9     205\n",
       "10    204\n",
       "11    202\n",
       "Name: count, dtype: int64"
      ]
     },
     "execution_count": 28,
     "metadata": {},
     "output_type": "execute_result"
    }
   ],
   "source": [
    "jobbencount = jobs_translated['Company Name'].value_counts().reset_index()['count'] \n",
    "jobbencount[jobbencount > 200]"
   ]
  },
  {
   "cell_type": "code",
   "execution_count": 19,
   "metadata": {},
   "outputs": [],
   "source": [
    "jobs_translated.to_csv('jobs_translated_edufix.csv', index=False)\n",
    "jobs_translated.to_csv('basic-navigation/jobs_app_1.csv', index=False)"
   ]
  }
 ],
 "metadata": {
  "kernelspec": {
   "display_name": ".venv",
   "language": "python",
   "name": "python3"
  },
  "language_info": {
   "codemirror_mode": {
    "name": "ipython",
    "version": 3
   },
   "file_extension": ".py",
   "mimetype": "text/x-python",
   "name": "python",
   "nbconvert_exporter": "python",
   "pygments_lexer": "ipython3",
   "version": "3.9.13"
  }
 },
 "nbformat": 4,
 "nbformat_minor": 2
}
